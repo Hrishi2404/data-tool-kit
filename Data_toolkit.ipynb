{
  "nbformat": 4,
  "nbformat_minor": 0,
  "metadata": {
    "colab": {
      "provenance": []
    },
    "kernelspec": {
      "name": "python3",
      "display_name": "Python 3"
    },
    "language_info": {
      "name": "python"
    }
  },
  "cells": [
    {
      "cell_type": "markdown",
      "source": [
        "Q1.What is NumPy, and why is it widely used in Python?\n",
        "\n",
        "ans >> NumPy, short for Numerical Python, is a fundamental open-source library in Python for numerical computing.\n",
        "\n",
        "NumPy is widely used in Python for several key reasons:\n",
        "\n",
        "1.Performance and Efficiency\n",
        "2.Vectorization\n",
        "3.Foundation for Scientific Computing\n",
        "4.Broad Applications"
      ],
      "metadata": {
        "id": "naHp0pswfvm6"
      }
    },
    {
      "cell_type": "markdown",
      "source": [
        "Q2.How does broadcasting work in NumPy?\n",
        "\n",
        "Ans>> NumPy broadcasting allows operations on arrays with different shapes and sizes by effectively stretching or replicating the smaller array to match the shape of the larger one."
      ],
      "metadata": {
        "id": "yJw3vwBlfvk3"
      }
    },
    {
      "cell_type": "markdown",
      "source": [
        "Q3.What is a Pandas DataFrame?\n",
        "\n",
        "Ans>> A Pandas DataFrame is a two-dimensional, size-mutable, and potentially heterogeneous tabular data structure with labeled axes (rows and columns) in the Python programming language."
      ],
      "metadata": {
        "id": "HFCnqoJlfvik"
      }
    },
    {
      "cell_type": "markdown",
      "source": [
        "Q4.Explain the use of the groupby() method in Pandas?\n",
        "\n",
        "Ans>> The groupby() method in Pandas is a fundamental tool for performing the \"split-apply-combine\" operation on data. This process involves\n",
        "\n",
        "*Splitting\n",
        "*applying\n",
        "*combining"
      ],
      "metadata": {
        "id": "GxlDPL6Yfvgr"
      }
    },
    {
      "cell_type": "markdown",
      "source": [
        "Q5.Why is Seaborn preferred for statistical visualizations?\n",
        "\n",
        "Ans>> Seaborn is preferred for statistical visualizations in Python because it provides a high-level interface that simplifies the creation of aesthetically pleasing and informative statistical graphics, particularly when working with pandas DataFrames."
      ],
      "metadata": {
        "id": "9c7RIQBTfve4"
      }
    },
    {
      "cell_type": "markdown",
      "source": [
        "Q6.What are the differences between NumPy arrays and Python lists?\n",
        "\n",
        "Ans>> NumPy arrays and Python lists are both data structures used to store collections of items, but they differ significantly in their characteristics and applications\n",
        "\n",
        "NumPy Arrays: Store elements of the same data type (homogeneous). This allows for efficient memory allocation and optimized numerical operations.\n",
        "Python Lists: Can store elements of different data types (heterogeneous). This offers greater flexibility for general-purpose programming.\n",
        "\n",
        "NumPy Arrays: Optimized for numerical computations and large datasets. They store data in contiguous memory blocks, leading to faster access and operations, and are more memory-efficient than lists for numerical data.\n",
        "Python Lists: Less efficient for large-scale numerical computations due to their dynamic nature and scattered memory storage.\n",
        "\n",
        "NumPy Arrays: Mutable, but their fixed-size and homogeneous nature can make modifications involving changes in size or data type less straightforward than with lists.\n",
        "Python Lists: Highly flexible and easy to modify (add, remove, or change elements) due to their dynamic sizing and heterogeneous nature."
      ],
      "metadata": {
        "id": "qTrcvMEmfvcw"
      }
    },
    {
      "cell_type": "markdown",
      "source": [
        "Q7.What is a heatmap, and when should it be used?\n",
        "\n",
        "Ans>> A heatmap is a visual representation of data where values are depicted using a color scale, making it easy to spot patterns and trends in the data. Heatmaps are used to analyze user behavior on websites, identify usability issues, and improve design"
      ],
      "metadata": {
        "id": "HMBlhtdYfva9"
      }
    },
    {
      "cell_type": "markdown",
      "source": [
        "Q8.What does the term “vectorized operation” mean in NumPy?\n",
        "\n",
        "\n",
        "Ans>>> In NumPy, a \"vectorized operation\" refers to performing an operation on an entire array at once, rather than iterating through individual elements using explicit loops."
      ],
      "metadata": {
        "id": "bTI7SQcrfvY4"
      }
    },
    {
      "cell_type": "markdown",
      "source": [
        "Q9. How does Matplotlib differ from Plotly?\n",
        "\n",
        "Ans>>   Matplotlib is known for its flexibility and control over static plots, making it ideal for creating publication-quality visuals. Plotly, on the other hand, specializes in interactive visualizations that can be easily shared online or embedded in web applications."
      ],
      "metadata": {
        "id": "tLwp6V6UfvW6"
      }
    },
    {
      "cell_type": "markdown",
      "source": [
        "Q10. What is the significance of hierarchical indexing in Pandas?\n",
        "\n",
        "Ans>> Hierarchical indexing, also known as MultiIndex, in Pandas is significant because it allows for representing and working with higher-dimensional data within a two-dimensional DataFrame structure."
      ],
      "metadata": {
        "id": "8rvpG_ZkfvU_"
      }
    },
    {
      "cell_type": "markdown",
      "source": [
        "Q11.What is the role of Seaborn’s pairplot() function?\n",
        "\n",
        "Ans>> Seaborn's pairplot() function is a powerful tool for visualizing relationships within a dataset, particularly in exploratory data analysis (EDA). Its primary role is to create a grid of plots that display both the univariate distribution of each variable and the pairwise relationships between all numerical variables in the dataset."
      ],
      "metadata": {
        "id": "aBrUlCo8fvTF"
      }
    },
    {
      "cell_type": "markdown",
      "source": [
        "Q12. What is the purpose of the describe() function in Pandas?\n",
        "\n",
        "Ans>>> The describe() function in Pandas is used to generate a statistical summary of a DataFrame or Series. Its primary purpose is to provide quick insights into the distribution and characteristics of the data.\n",
        "\n",
        "count: Number of non-null values.\n",
        "mean: Average value.\n",
        "std: Standard deviation, indicating the spread of data.\n",
        "min: Minimum value.\n",
        "25%: First quartile (25th percentile).\n",
        "50%: Median (50th percentile or second quartile).\n",
        "75%: Third quartile (75th percentile)."
      ],
      "metadata": {
        "id": "H97NGGhGfvRH"
      }
    },
    {
      "cell_type": "markdown",
      "source": [
        "Q13.Why is handling missing data important in Pandas?\n",
        "\n",
        "\n",
        "Ans>> Handling missing data in Pandas is crucial for several reasons, primarily to ensure the accuracy, reliability, and usability of data for analysis and modeling:\n",
        "\n",
        "*Ensuring Data Accuracy and Preventing Bias\n",
        "*Facilitating Data Analysis and Visualization\n",
        "*Preparing Data for Machine Learning Models\n",
        "*Maintaining Data Integrity\n",
        "*Preventing Errors and Unexpected Behavior"
      ],
      "metadata": {
        "id": "yDNLIiTffvPg"
      }
    },
    {
      "cell_type": "markdown",
      "source": [
        "Q14. What are the benefits of using Plotly for data visualizatioN?\n",
        "\n",
        "Ans>> Plotly offers several key benefits for data visualization: its interactive features allow users to explore data deeply, its wide range of plot types provides flexibility, and its ease of use makes it accessible for both beginners and experienced users. Furthermore, Plotly integrates well with other tools and frameworks, supports various output formats, and has a strong community for support."
      ],
      "metadata": {
        "id": "KHDsiT3ffvNQ"
      }
    },
    {
      "cell_type": "markdown",
      "source": [
        "Q15. How does NumPy handle multidimensional arrays?\n",
        "\n",
        "Ans>> NumPy handles multidimensional arrays primarily through its core object, the ndarray (N-dimensional array). This object provides a highly efficient way to store and manipulate homogeneous data (all elements of the same type) in a multidimensional grid."
      ],
      "metadata": {
        "id": "5ZGLOH2ifvLZ"
      }
    },
    {
      "cell_type": "markdown",
      "source": [
        "Q16.What is the role of Bokeh in data visualization?\n",
        "\n",
        "Ans>>> Bokeh is a Python library that specializes in creating interactive visualizations for web browsers. It enables users to build rich, interactive plots, charts, and dashboards that can be easily shared and deployed. Bokeh excels at generating plots that are both visually appealing and easily manipulated in web environments"
      ],
      "metadata": {
        "id": "FJsL-_QQfvJP"
      }
    },
    {
      "cell_type": "markdown",
      "source": [
        "Q17. Explain the difference between apply() and map() in Pandas?\n",
        "\n",
        "Ans>> In pandas, both map() and apply() are used for applying functions or transformations to data, but they differ in their scope and typical use cases:\n",
        "\n",
        "1. map():\n",
        "Scope: Exclusively defined for Series objects. It cannot be directly used on a DataFrame.\n",
        "Purpose: Primarily used for element-wise mapping or substitution of values. It's ideal when you want to replace values in a Series based on a dictionary, another Series, or a simple function applied to each element individually.\n",
        "Input: Accepts a dictionary, a Series, or a callable (function).\n",
        "Behavior: Operates on each element of the Series independently.\n",
        "\n",
        "2. apply():\n",
        "Scope: Defined for both Series and DataFrame objects.\n",
        "Purpose: More versatile than map(). It can apply a function along an axis (rows or columns) of a DataFrame, or to each element of a Series. It's suitable for more complex operations, including aggregations, transformations involving multiple columns, or functions that cannot be easily vectorized.\n",
        "Input: Accepts a callable (function)."
      ],
      "metadata": {
        "id": "W0yLv6q0fvHJ"
      }
    },
    {
      "cell_type": "markdown",
      "source": [
        "Q18.What are some advanced features of NumPy?\n",
        "\n",
        "\n",
        "Ans>> NumPy, a cornerstone of numerical computing in Python, offers a plethora of advanced features beyond basic array manipulation. These include broadcasting, sophisticated indexing and slicing techniques, linear algebra capabilities, efficient memory management, and seamless integration with other scientific libraries."
      ],
      "metadata": {
        "id": "s7GU3Hw1fvFG"
      }
    },
    {
      "cell_type": "markdown",
      "source": [
        "Q19. How does Pandas simplify time series analysis?\n",
        "\n",
        "Ans>>> Pandas simplifies time series analysis through its specialized functionalities and data structures designed to handle time-indexed data efficiently.\n",
        "Key Simplifications:\n",
        "DatetimeIndex:\n",
        "Pandas introduces the DatetimeIndex, a specialized index type that allows for powerful and intuitive time-based indexing and slicing of data. This enables selecting data by specific dates, ranges, or even partial strings"
      ],
      "metadata": {
        "id": "V0FUdmizfvDP"
      }
    },
    {
      "cell_type": "markdown",
      "source": [
        "Q20.What is the role of a pivot table in Pandas?\n",
        "\n",
        "Ans>> A pivot table in Pandas serves as a powerful tool for summarizing and analyzing large datasets within a DataFrame. Its primary role is to transform and aggregate data, enabling users to gain insights and identify patterns that might be obscured in raw data."
      ],
      "metadata": {
        "id": "_qqSZbXKfvBA"
      }
    },
    {
      "cell_type": "markdown",
      "source": [
        "Q21.Why is NumPy’s array slicing faster than Python’s list slicing?\n",
        "\n",
        "Ans>> NumPy's array slicing is significantly faster than Python's list slicing primarily due to the fundamental differences in how they store and manage data in memory.\n",
        "\n",
        "NumPy Arrays: Store elements of a single, uniform data type in contiguous memory blocks. This allows for efficient access and manipulation, as the processor can load chunks of data directly into its cache with fewer memory accesses.\n",
        "Python Lists: Can store elements of different data types, meaning the actual data objects are often scattered in memory, with the list itself containing pointers to these objects. This non-contiguous storage leads to more cache misses and slower data retrieval.\n",
        "\n",
        "\n",
        "NumPy: The core of NumPy is implemented in C and Fortran, allowing for highly optimized, low-level operations. Slicing operations are performed directly on these C-level arrays.\n",
        "\n",
        "Python Lists: While Python's lists are also implemented in C, the operations on them still involve Python's object model and interpretation overhead, which is slower than NumPy's direct manipulation of contiguous data. NumPy leverages vectorization, performing operations on entire arrays at once without explicit Python loops, which significantly boosts performance."
      ],
      "metadata": {
        "id": "X6572FpSfu_E"
      }
    },
    {
      "cell_type": "code",
      "source": [
        "import numpy as np"
      ],
      "metadata": {
        "id": "f3pZh9Dom0IS"
      },
      "execution_count": 1,
      "outputs": []
    },
    {
      "cell_type": "markdown",
      "source": [
        "Q1.How do you creat a 2D array and calculate the sum of each row?"
      ],
      "metadata": {
        "id": "4wfHqRk3lsOd"
      }
    },
    {
      "cell_type": "code",
      "execution_count": 2,
      "metadata": {
        "id": "FJzia03sKfuT",
        "colab": {
          "base_uri": "https://localhost:8080/"
        },
        "outputId": "d67eff58-987e-44c2-934b-4254565c694b"
      },
      "outputs": [
        {
          "output_type": "stream",
          "name": "stdout",
          "text": [
            "21\n"
          ]
        }
      ],
      "source": [
        "n1 = np.array([[1,2,3],[4,5,6]])\n",
        "print(n1.sum())"
      ]
    },
    {
      "cell_type": "markdown",
      "source": [
        "Q2.Write a panda script to find the mean of specific column in a dataframe."
      ],
      "metadata": {
        "id": "3R1W1a3Oo0Wz"
      }
    },
    {
      "cell_type": "code",
      "source": [
        "import pandas as pd\n",
        "\n",
        "\n",
        "data = {'Name': ['Rishi', 'pritam', 'tushar', 'tapas'],\n",
        "        'Age': [25, 30, 26, 28],\n",
        "        'Score': [85, 92, 78, 88]}\n",
        "df = pd.DataFrame(data)\n",
        "\n",
        "\n",
        "mean_score = df['Score'].mean()\n",
        "\n",
        "\n",
        "print(f\"The mean of the 'Score' column is: {mean_score}\")"
      ],
      "metadata": {
        "id": "KFtHsGhFLLJr",
        "colab": {
          "base_uri": "https://localhost:8080/"
        },
        "outputId": "0379b460-1de1-4f86-8ab7-2482c809633f"
      },
      "execution_count": 3,
      "outputs": [
        {
          "output_type": "stream",
          "name": "stdout",
          "text": [
            "The mean of the 'Score' column is: 85.75\n"
          ]
        }
      ]
    },
    {
      "cell_type": "markdown",
      "source": [
        "Q3.Create a scatter plot  using matplotlib."
      ],
      "metadata": {
        "id": "M2hjv4fsq6GQ"
      }
    },
    {
      "cell_type": "code",
      "source": [
        "import matplotlib.pyplot as plt"
      ],
      "metadata": {
        "id": "RUssVusRna2Q"
      },
      "execution_count": 4,
      "outputs": []
    },
    {
      "cell_type": "code",
      "source": [
        "x = [1,5,3,1,7,12,6,7]\n",
        "y = [3,5,3,1,6,7,8,2]\n",
        "plt.scatter(x,y)\n",
        "plt.show()"
      ],
      "metadata": {
        "colab": {
          "base_uri": "https://localhost:8080/",
          "height": 430
        },
        "id": "Dd53mZtTq2kb",
        "outputId": "2076c02d-8908-4f1a-bbcd-0d0da38b44b0"
      },
      "execution_count": 5,
      "outputs": [
        {
          "output_type": "display_data",
          "data": {
            "text/plain": [
              "<Figure size 640x480 with 1 Axes>"
            ],
            "image/png": "[encoded data removed]"
          },
          "metadata": {}
        }
      ]
    },
    {
      "cell_type": "markdown",
      "source": [
        "Q4.How do you calculate the correlation matrix using seaborn and visualize it with heatmap?"
      ],
      "metadata": {
        "id": "uWMMPpqhs6Ma"
      }
    },
    {
      "cell_type": "code",
      "source": [
        "import numpy as np\n",
        "import seaborn as sns\n",
        "import matplotlib.pyplot as plt"
      ],
      "metadata": {
        "id": "4S1nITKHsVhq"
      },
      "execution_count": 6,
      "outputs": []
    },
    {
      "cell_type": "code",
      "source": [
        "week_1 =[20,22,25,45,30]\n",
        "week_2 =[17,22,24,30,17]\n",
        "week_3 =[21,26,22,40,36]\n",
        "week_4 =[22,23,25,33,35]\n",
        "\n",
        "data = np.array([week_1,week_2,week_3,week_4])\n",
        "sns.heatmap(data, cmap = 'coolwarm')\n",
        "plt.show()"
      ],
      "metadata": {
        "colab": {
          "base_uri": "https://localhost:8080/",
          "height": 435
        },
        "id": "LWqy2e2GuEbX",
        "outputId": "e0060947-708c-4844-e0e3-3ac90aafff56"
      },
      "execution_count": 7,
      "outputs": [
        {
          "output_type": "display_data",
          "data": {
            "text/plain": [
              "<Figure size 640x480 with 2 Axes>"
            ],
            "image/png": "[encoded data removed]"
          },
          "metadata": {}
        }
      ]
    },
    {
      "cell_type": "markdown",
      "source": [
        "Q5.Generate a bar plot using plotly."
      ],
      "metadata": {
        "id": "zJgumsaEzCpi"
      }
    },
    {
      "cell_type": "code",
      "source": [
        "import plotly.express as px"
      ],
      "metadata": {
        "id": "Uv2t9ZfgyyCi"
      },
      "execution_count": 8,
      "outputs": []
    },
    {
      "cell_type": "code",
      "source": [
        "emp = ['Rishi','pritam','tushar','tapas']\n",
        "salary = [175000,175000,150000,125000]\n",
        "fig = px.bar(x=emp,y=salary, title = 'employes salary',labels ={'x':'employe name','y':'salary'})\n",
        "fig.show()"
      ],
      "metadata": {
        "colab": {
          "base_uri": "https://localhost:8080/",
          "height": 542
        },
        "id": "BjRn7WwX0zb3",
        "outputId": "b263a99d-a36b-4bf6-c817-e4ae44e61ea0"
      },
      "execution_count": 9,
      "outputs": [
        {
          "output_type": "display_data",
          "data": {
            "text/html": [
              "<html>\n",
              "<head><meta charset=\"utf-8\" /></head>\n",
              "<body>\n",
              "    <div>            <script src=\"https://cdnjs.cloudflare.com/ajax/libs/mathjax/2.7.5/MathJax.js?config=TeX-AMS-MML_SVG\"></script><script type=\"text/javascript\">if (window.MathJax && window.MathJax.Hub && window.MathJax.Hub.Config) {window.MathJax.Hub.Config({SVG: {font: \"STIX-Web\"}});}</script>                <script type=\"text/javascript\">window.PlotlyConfig = {MathJaxConfig: 'local'};</script>\n",
              "        <script charset=\"utf-8\" src=\"https://cdn.plot.ly/plotly-2.35.2.min.js\"></script>                <div id=\"e0b0e31b-1a71-4c0c-b53a-a5166fe57153\" class=\"plotly-graph-div\" style=\"height:525px; width:100%;\"></div>            <script type=\"text/javascript\">                                    window.PLOTLYENV=window.PLOTLYENV || {};                                    if (document.getElementById(\"e0b0e31b-1a71-4c0c-b53a-a5166fe57153\")) {                    Plotly.newPlot(                        \"e0b0e31b-1a71-4c0c-b53a-a5166fe57153\",                        [{\"alignmentgroup\":\"True\",\"hovertemplate\":\"employe name=%{x}\\u003cbr\\u003esalary=%{y}\\u003cextra\\u003e\\u003c\\u002fextra\\u003e\",\"legendgroup\":\"\",\"marker\":{\"color\":\"#636efa\",\"pattern\":{\"shape\":\"\"}},\"name\":\"\",\"offsetgroup\":\"\",\"orientation\":\"v\",\"showlegend\":false,\"textposition\":\"auto\",\"x\":[\"Rishi\",\"pritam\",\"tushar\",\"tapas\"],\"xaxis\":\"x\",\"y\":[175000,175000,150000,125000],\"yaxis\":\"y\",\"type\":\"bar\"}],                        {\"template\":{\"data\":{\"histogram2dcontour\":[{\"type\":\"histogram2dcontour\",\"colorbar\":{\"outlinewidth\":0,\"ticks\":\"\"},\"colorscale\":[[0.0,\"#0d0887\"],[0.1111111111111111,\"#46039f\"],[0.2222222222222222,\"#7201a8\"],[0.3333333333333333,\"#9c179e\"],[0.4444444444444444,\"#bd3786\"],[0.5555555555555556,\"#d8576b\"],[0.6666666666666666,\"#ed7953\"],[0.7777777777777778,\"#fb9f3a\"],[0.8888888888888888,\"#fdca26\"],[1.0,\"#f0f921\"]]}],\"choropleth\":[{\"type\":\"choropleth\",\"colorbar\":{\"outlinewidth\":0,\"ticks\":\"\"}}],\"histogram2d\":[{\"type\":\"histogram2d\",\"colorbar\":{\"outlinewidth\":0,\"ticks\":\"\"},\"colorscale\":[[0.0,\"#0d0887\"],[0.1111111111111111,\"#46039f\"],[0.2222222222222222,\"#7201a8\"],[0.3333333333333333,\"#9c179e\"],[0.4444444444444444,\"#bd3786\"],[0.5555555555555556,\"#d8576b\"],[0.6666666666666666,\"#ed7953\"],[0.7777777777777778,\"#fb9f3a\"],[0.8888888888888888,\"#fdca26\"],[1.0,\"#f0f921\"]]}],\"heatmap\":[{\"type\":\"heatmap\",\"colorbar\":{\"outlinewidth\":0,\"ticks\":\"\"},\"colorscale\":[[0.0,\"#0d0887\"],[0.1111111111111111,\"#46039f\"],[0.2222222222222222,\"#7201a8\"],[0.3333333333333333,\"#9c179e\"],[0.4444444444444444,\"#bd3786\"],[0.5555555555555556,\"#d8576b\"],[0.6666666666666666,\"#ed7953\"],[0.7777777777777778,\"#fb9f3a\"],[0.8888888888888888,\"#fdca26\"],[1.0,\"#f0f921\"]]}],\"heatmapgl\":[{\"type\":\"heatmapgl\",\"colorbar\":{\"outlinewidth\":0,\"ticks\":\"\"},\"colorscale\":[[0.0,\"#0d0887\"],[0.1111111111111111,\"#46039f\"],[0.2222222222222222,\"#7201a8\"],[0.3333333333333333,\"#9c179e\"],[0.4444444444444444,\"#bd3786\"],[0.5555555555555556,\"#d8576b\"],[0.6666666666666666,\"#ed7953\"],[0.7777777777777778,\"#fb9f3a\"],[0.8888888888888888,\"#fdca26\"],[1.0,\"#f0f921\"]]}],\"contourcarpet\":[{\"type\":\"contourcarpet\",\"colorbar\":{\"outlinewidth\":0,\"ticks\":\"\"}}],\"contour\":[{\"type\":\"contour\",\"colorbar\":{\"outlinewidth\":0,\"ticks\":\"\"},\"colorscale\":[[0.0,\"#0d0887\"],[0.1111111111111111,\"#46039f\"],[0.2222222222222222,\"#7201a8\"],[0.3333333333333333,\"#9c179e\"],[0.4444444444444444,\"#bd3786\"],[0.5555555555555556,\"#d8576b\"],[0.6666666666666666,\"#ed7953\"],[0.7777777777777778,\"#fb9f3a\"],[0.8888888888888888,\"#fdca26\"],[1.0,\"#f0f921\"]]}],\"surface\":[{\"type\":\"surface\",\"colorbar\":{\"outlinewidth\":0,\"ticks\":\"\"},\"colorscale\":[[0.0,\"#0d0887\"],[0.1111111111111111,\"#46039f\"],[0.2222222222222222,\"#7201a8\"],[0.3333333333333333,\"#9c179e\"],[0.4444444444444444,\"#bd3786\"],[0.5555555555555556,\"#d8576b\"],[0.6666666666666666,\"#ed7953\"],[0.7777777777777778,\"#fb9f3a\"],[0.8888888888888888,\"#fdca26\"],[1.0,\"#f0f921\"]]}],\"mesh3d\":[{\"type\":\"mesh3d\",\"colorbar\":{\"outlinewidth\":0,\"ticks\":\"\"}}],\"scatter\":[{\"fillpattern\":{\"fillmode\":\"overlay\",\"size\":10,\"solidity\":0.2},\"type\":\"scatter\"}],\"parcoords\":[{\"type\":\"parcoords\",\"line\":{\"colorbar\":{\"outlinewidth\":0,\"ticks\":\"\"}}}],\"scatterpolargl\":[{\"type\":\"scatterpolargl\",\"marker\":{\"colorbar\":{\"outlinewidth\":0,\"ticks\":\"\"}}}],\"bar\":[{\"error_x\":{\"color\":\"#2a3f5f\"},\"error_y\":{\"color\":\"#2a3f5f\"},\"marker\":{\"line\":{\"color\":\"#E5ECF6\",\"width\":0.5},\"pattern\":{\"fillmode\":\"overlay\",\"size\":10,\"solidity\":0.2}},\"type\":\"bar\"}],\"scattergeo\":[{\"type\":\"scattergeo\",\"marker\":{\"colorbar\":{\"outlinewidth\":0,\"ticks\":\"\"}}}],\"scatterpolar\":[{\"type\":\"scatterpolar\",\"marker\":{\"colorbar\":{\"outlinewidth\":0,\"ticks\":\"\"}}}],\"histogram\":[{\"marker\":{\"pattern\":{\"fillmode\":\"overlay\",\"size\":10,\"solidity\":0.2}},\"type\":\"histogram\"}],\"scattergl\":[{\"type\":\"scattergl\",\"marker\":{\"colorbar\":{\"outlinewidth\":0,\"ticks\":\"\"}}}],\"scatter3d\":[{\"type\":\"scatter3d\",\"line\":{\"colorbar\":{\"outlinewidth\":0,\"ticks\":\"\"}},\"marker\":{\"colorbar\":{\"outlinewidth\":0,\"ticks\":\"\"}}}],\"scattermapbox\":[{\"type\":\"scattermapbox\",\"marker\":{\"colorbar\":{\"outlinewidth\":0,\"ticks\":\"\"}}}],\"scatterternary\":[{\"type\":\"scatterternary\",\"marker\":{\"colorbar\":{\"outlinewidth\":0,\"ticks\":\"\"}}}],\"scattercarpet\":[{\"type\":\"scattercarpet\",\"marker\":{\"colorbar\":{\"outlinewidth\":0,\"ticks\":\"\"}}}],\"carpet\":[{\"aaxis\":{\"endlinecolor\":\"#2a3f5f\",\"gridcolor\":\"white\",\"linecolor\":\"white\",\"minorgridcolor\":\"white\",\"startlinecolor\":\"#2a3f5f\"},\"baxis\":{\"endlinecolor\":\"#2a3f5f\",\"gridcolor\":\"white\",\"linecolor\":\"white\",\"minorgridcolor\":\"white\",\"startlinecolor\":\"#2a3f5f\"},\"type\":\"carpet\"}],\"table\":[{\"cells\":{\"fill\":{\"color\":\"#EBF0F8\"},\"line\":{\"color\":\"white\"}},\"header\":{\"fill\":{\"color\":\"#C8D4E3\"},\"line\":{\"color\":\"white\"}},\"type\":\"table\"}],\"barpolar\":[{\"marker\":{\"line\":{\"color\":\"#E5ECF6\",\"width\":0.5},\"pattern\":{\"fillmode\":\"overlay\",\"size\":10,\"solidity\":0.2}},\"type\":\"barpolar\"}],\"pie\":[{\"automargin\":true,\"type\":\"pie\"}]},\"layout\":{\"autotypenumbers\":\"strict\",\"colorway\":[\"#636efa\",\"#EF553B\",\"#00cc96\",\"#ab63fa\",\"#FFA15A\",\"#19d3f3\",\"#FF6692\",\"#B6E880\",\"#FF97FF\",\"#FECB52\"],\"font\":{\"color\":\"#2a3f5f\"},\"hovermode\":\"closest\",\"hoverlabel\":{\"align\":\"left\"},\"paper_bgcolor\":\"white\",\"plot_bgcolor\":\"#E5ECF6\",\"polar\":{\"bgcolor\":\"#E5ECF6\",\"angularaxis\":{\"gridcolor\":\"white\",\"linecolor\":\"white\",\"ticks\":\"\"},\"radialaxis\":{\"gridcolor\":\"white\",\"linecolor\":\"white\",\"ticks\":\"\"}},\"ternary\":{\"bgcolor\":\"#E5ECF6\",\"aaxis\":{\"gridcolor\":\"white\",\"linecolor\":\"white\",\"ticks\":\"\"},\"baxis\":{\"gridcolor\":\"white\",\"linecolor\":\"white\",\"ticks\":\"\"},\"caxis\":{\"gridcolor\":\"white\",\"linecolor\":\"white\",\"ticks\":\"\"}},\"coloraxis\":{\"colorbar\":{\"outlinewidth\":0,\"ticks\":\"\"}},\"colorscale\":{\"sequential\":[[0.0,\"#0d0887\"],[0.1111111111111111,\"#46039f\"],[0.2222222222222222,\"#7201a8\"],[0.3333333333333333,\"#9c179e\"],[0.4444444444444444,\"#bd3786\"],[0.5555555555555556,\"#d8576b\"],[0.6666666666666666,\"#ed7953\"],[0.7777777777777778,\"#fb9f3a\"],[0.8888888888888888,\"#fdca26\"],[1.0,\"#f0f921\"]],\"sequentialminus\":[[0.0,\"#0d0887\"],[0.1111111111111111,\"#46039f\"],[0.2222222222222222,\"#7201a8\"],[0.3333333333333333,\"#9c179e\"],[0.4444444444444444,\"#bd3786\"],[0.5555555555555556,\"#d8576b\"],[0.6666666666666666,\"#ed7953\"],[0.7777777777777778,\"#fb9f3a\"],[0.8888888888888888,\"#fdca26\"],[1.0,\"#f0f921\"]],\"diverging\":[[0,\"#8e0152\"],[0.1,\"#c51b7d\"],[0.2,\"#de77ae\"],[0.3,\"#f1b6da\"],[0.4,\"#fde0ef\"],[0.5,\"#f7f7f7\"],[0.6,\"#e6f5d0\"],[0.7,\"#b8e186\"],[0.8,\"#7fbc41\"],[0.9,\"#4d9221\"],[1,\"#276419\"]]},\"xaxis\":{\"gridcolor\":\"white\",\"linecolor\":\"white\",\"ticks\":\"\",\"title\":{\"standoff\":15},\"zerolinecolor\":\"white\",\"automargin\":true,\"zerolinewidth\":2},\"yaxis\":{\"gridcolor\":\"white\",\"linecolor\":\"white\",\"ticks\":\"\",\"title\":{\"standoff\":15},\"zerolinecolor\":\"white\",\"automargin\":true,\"zerolinewidth\":2},\"scene\":{\"xaxis\":{\"backgroundcolor\":\"#E5ECF6\",\"gridcolor\":\"white\",\"linecolor\":\"white\",\"showbackground\":true,\"ticks\":\"\",\"zerolinecolor\":\"white\",\"gridwidth\":2},\"yaxis\":{\"backgroundcolor\":\"#E5ECF6\",\"gridcolor\":\"white\",\"linecolor\":\"white\",\"showbackground\":true,\"ticks\":\"\",\"zerolinecolor\":\"white\",\"gridwidth\":2},\"zaxis\":{\"backgroundcolor\":\"#E5ECF6\",\"gridcolor\":\"white\",\"linecolor\":\"white\",\"showbackground\":true,\"ticks\":\"\",\"zerolinecolor\":\"white\",\"gridwidth\":2}},\"shapedefaults\":{\"line\":{\"color\":\"#2a3f5f\"}},\"annotationdefaults\":{\"arrowcolor\":\"#2a3f5f\",\"arrowhead\":0,\"arrowwidth\":1},\"geo\":{\"bgcolor\":\"white\",\"landcolor\":\"#E5ECF6\",\"subunitcolor\":\"white\",\"showland\":true,\"showlakes\":true,\"lakecolor\":\"white\"},\"title\":{\"x\":0.05},\"mapbox\":{\"style\":\"light\"}}},\"xaxis\":{\"anchor\":\"y\",\"domain\":[0.0,1.0],\"title\":{\"text\":\"employe name\"}},\"yaxis\":{\"anchor\":\"x\",\"domain\":[0.0,1.0],\"title\":{\"text\":\"salary\"}},\"legend\":{\"tracegroupgap\":0},\"title\":{\"text\":\"employes salary\"},\"barmode\":\"relative\"},                        {\"responsive\": true}                    ).then(function(){\n",
              "                            \n",
              "var gd = document.getElementById('e0b0e31b-1a71-4c0c-b53a-a5166fe57153');\n",
              "var x = new MutationObserver(function (mutations, observer) {{\n",
              "        var display = window.getComputedStyle(gd).display;\n",
              "        if (!display || display === 'none') {{\n",
              "            console.log([gd, 'removed!']);\n",
              "            Plotly.purge(gd);\n",
              "            observer.disconnect();\n",
              "        }}\n",
              "}});\n",
              "\n",
              "// Listen for the removal of the full notebook cells\n",
              "var notebookContainer = gd.closest('#notebook-container');\n",
              "if (notebookContainer) {{\n",
              "    x.observe(notebookContainer, {childList: true});\n",
              "}}\n",
              "\n",
              "// Listen for the clearing of the current output cell\n",
              "var outputEl = gd.closest('.output');\n",
              "if (outputEl) {{\n",
              "    x.observe(outputEl, {childList: true});\n",
              "}}\n",
              "\n",
              "                        })                };                            </script>        </div>\n",
              "</body>\n",
              "</html>"
            ]
          },
          "metadata": {}
        }
      ]
    },
    {
      "cell_type": "markdown",
      "source": [
        "Q6.Create a dataframe and add a new column based on an existing coloumn."
      ],
      "metadata": {
        "id": "0OL23y5n2oiL"
      }
    },
    {
      "cell_type": "code",
      "source": [
        "import pandas as pd\n"
      ],
      "metadata": {
        "id": "-U9tK96s15t4"
      },
      "execution_count": 10,
      "outputs": []
    },
    {
      "cell_type": "code",
      "source": [
        "data = {'Name': ['Rishi', 'pritam', 'tushar', 'tapas'],\n",
        "        'Age': [25, 30, 26, 28],\n",
        "        'city': ['hokaido','osaka','spain','sri lanka']}\n",
        "df = pd.DataFrame(data)\n",
        "#print(df)\n",
        "\n",
        "#adding new column\n",
        "\n",
        "df[' gender'] = ['male','male','male','male']\n",
        "print(df)"
      ],
      "metadata": {
        "colab": {
          "base_uri": "https://localhost:8080/"
        },
        "id": "DvELp4iN3q0c",
        "outputId": "a7965052-eb2b-4143-ed7b-539f401e481c"
      },
      "execution_count": 11,
      "outputs": [
        {
          "output_type": "stream",
          "name": "stdout",
          "text": [
            "     Name  Age       city  gender\n",
            "0   Rishi   25    hokaido    male\n",
            "1  pritam   30      osaka    male\n",
            "2  tushar   26      spain    male\n",
            "3   tapas   28  sri lanka    male\n"
          ]
        }
      ]
    },
    {
      "cell_type": "markdown",
      "source": [
        "Q7.A Write a program to perform element-wise multiplication of two NumPy arrays."
      ],
      "metadata": {
        "id": "e5paFgxbRNnv"
      }
    },
    {
      "cell_type": "code",
      "source": [
        "a = np.array([[1,2,3],[4,5,6]])\n",
        "b = np.array([[2,3,5],[1,3,4]])\n",
        "\n",
        "array = np.multiply(a,b)\n",
        "\n",
        "print(array)"
      ],
      "metadata": {
        "id": "b_oTHO9q4gQQ",
        "colab": {
          "base_uri": "https://localhost:8080/"
        },
        "outputId": "9218f68e-d893-45a4-b718-f8b1d01a6ccc"
      },
      "execution_count": 15,
      "outputs": [
        {
          "output_type": "stream",
          "name": "stdout",
          "text": [
            "[[ 2  6 15]\n",
            " [ 4 15 24]]\n"
          ]
        }
      ]
    },
    {
      "cell_type": "markdown",
      "source": [
        "Q8.Create a line plot with multiple lines using Matplotlib."
      ],
      "metadata": {
        "id": "FsQBW1jJTEIj"
      }
    },
    {
      "cell_type": "code",
      "source": [
        "date_= ['1-1-2020','1-1-2021','1-1-2022']\n",
        "books_read1 = [4,10,8]\n",
        "books_read2 = [1,5,11]\n",
        "books_read3 = [6,9,15]\n",
        "\n",
        "plt.plot(date_,books_read1)\n",
        "plt.plot(date_,books_read2)\n",
        "plt.plot(date_,books_read3)\n",
        "\n",
        "\n",
        "plt.xlabel('date')\n",
        "plt.ylabel('books read')\n",
        "plt.title('my chart')\n",
        "plt.grid(True)\n",
        "plt.show()"
      ],
      "metadata": {
        "colab": {
          "base_uri": "https://localhost:8080/",
          "height": 472
        },
        "id": "j8F4Vll8SZyv",
        "outputId": "166809ec-5628-40b5-fd4c-e3c0aeb10dc8"
      },
      "execution_count": 23,
      "outputs": [
        {
          "output_type": "display_data",
          "data": {
            "text/plain": [
              "<Figure size 640x480 with 1 Axes>"
            ],
            "image/png": "[encoded data removed]"
          },
          "metadata": {}
        }
      ]
    },
    {
      "cell_type": "markdown",
      "source": [
        "Q9. Generate a Pandas DataFrame and filter rows where a column value is greater than a threshold."
      ],
      "metadata": {
        "id": "c0KDm_uUY6v4"
      }
    },
    {
      "cell_type": "code",
      "source": [
        "data = {'Name': ['Alice', 'Bob', 'Charlie', 'David', 'Eve'],\n",
        "        'Age': [25, 30, 22, 35, 28],\n",
        "        'Score': [85, 92, 78, 95, 88]}\n",
        "df = pd.DataFrame(data)\n",
        "print(\"Original DataFrame:\")\n",
        "print(df)\n",
        "\n",
        "threshold = 80\n",
        "filtered_df = df[df['Score'] > threshold]\n",
        "print(\"\\nFiltered DataFrame (Score > 80):\")\n",
        "print(filtered_df)"
      ],
      "metadata": {
        "colab": {
          "base_uri": "https://localhost:8080/"
        },
        "id": "T6N1hfb8WqvQ",
        "outputId": "7540b5ca-d988-40cf-f2cd-801a336aeeae"
      },
      "execution_count": 25,
      "outputs": [
        {
          "output_type": "stream",
          "name": "stdout",
          "text": [
            "Original DataFrame:\n",
            "      Name  Age  Score\n",
            "0    Alice   25     85\n",
            "1      Bob   30     92\n",
            "2  Charlie   22     78\n",
            "3    David   35     95\n",
            "4      Eve   28     88\n",
            "\n",
            "Filtered DataFrame (Score > 80):\n",
            "    Name  Age  Score\n",
            "0  Alice   25     85\n",
            "1    Bob   30     92\n",
            "3  David   35     95\n",
            "4    Eve   28     88\n"
          ]
        }
      ]
    },
    {
      "cell_type": "markdown",
      "source": [
        "Q10. Create a histogram using Seaborn to visualize a distribution."
      ],
      "metadata": {
        "id": "NfzeS_7YZxgg"
      }
    },
    {
      "cell_type": "code",
      "source": [
        "import seaborn as sns\n",
        "import matplotlib.pyplot as plt\n",
        "import numpy as np\n",
        "\n",
        "data = np.random.normal(loc=0, scale=1, size=1000)\n",
        "\n",
        "\n",
        "plt.figure(figsize=(8, 6))\n",
        "sns.histplot(x=data, bins=30, kde=True, color='skyblue', edgecolor='black')\n",
        "\n",
        "\n",
        "plt.title('Distribution of Sample Data')\n",
        "plt.xlabel('Value')\n",
        "plt.ylabel('Frequency')\n",
        "\n",
        "\n",
        "plt.grid(axis='y', linestyle='--', alpha=0.7)\n",
        "plt.show()"
      ],
      "metadata": {
        "colab": {
          "base_uri": "https://localhost:8080/",
          "height": 531
        },
        "id": "XdvxeIQyZgqo",
        "outputId": "447d2f19-5480-4131-ad0f-396c65937164"
      },
      "execution_count": 26,
      "outputs": [
        {
          "output_type": "display_data",
          "data": {
            "text/plain": [
              "<Figure size 800x600 with 1 Axes>"
            ],
            "image/png": "[encoded data removed]"
          },
          "metadata": {}
        }
      ]
    },
    {
      "cell_type": "markdown",
      "source": [
        "Q11. Perform matrix multiplication using NumPy."
      ],
      "metadata": {
        "id": "xH5gYneOchUH"
      }
    },
    {
      "cell_type": "code",
      "source": [
        "matrix_a = np.array([[1, 2],\n",
        "                     [3, 4]])\n",
        "\n",
        "matrix_b = np.array([[5, 6],\n",
        "                     [7, 8]])\n",
        "\n",
        "\n",
        "product_matmul = np.matmul(matrix_a, matrix_b)\n",
        "\n",
        "\n",
        "product_at_operator = matrix_a @ matrix_b\n",
        "\n",
        "\n",
        "print(\"Matrix A:\\n\", matrix_a)\n",
        "print(\"Matrix B:\\n\", matrix_b)\n",
        "print(\"Matrix Product (using np.matmul):\\n\", product_matmul)\n",
        "print(\"Matrix Product (using @ operator):\\n\", product_at_operator)"
      ],
      "metadata": {
        "colab": {
          "base_uri": "https://localhost:8080/"
        },
        "id": "HZQHKpOjccxM",
        "outputId": "bb24d3bd-65ca-4728-f0ae-9d4627943de2"
      },
      "execution_count": 27,
      "outputs": [
        {
          "output_type": "stream",
          "name": "stdout",
          "text": [
            "Matrix A:\n",
            " [[1 2]\n",
            " [3 4]]\n",
            "Matrix B:\n",
            " [[5 6]\n",
            " [7 8]]\n",
            "Matrix Product (using np.matmul):\n",
            " [[19 22]\n",
            " [43 50]]\n",
            "Matrix Product (using @ operator):\n",
            " [[19 22]\n",
            " [43 50]]\n"
          ]
        }
      ]
    },
    {
      "cell_type": "markdown",
      "source": [
        "Q12. Use Pandas to load a CSV file and display its first 5 rows."
      ],
      "metadata": {
        "id": "bdaZuXm8c9eH"
      }
    },
    {
      "cell_type": "code",
      "source": [
        "read = pd.read_csv('/content/vo_comp.csv')\n",
        "print(read.head())\n"
      ],
      "metadata": {
        "colab": {
          "base_uri": "https://localhost:8080/"
        },
        "id": "ITyNi_cIc731",
        "outputId": "1046006a-3a19-48dd-85de-0fe2f626cf31"
      },
      "execution_count": 28,
      "outputs": [
        {
          "output_type": "stream",
          "name": "stdout",
          "text": [
            "   ORDERNUMBER  QUANTITYORDERED  PRICEEACH  ORDERLINENUMBER     ORDERDATETIME  \\\n",
            "0        10107               30      95.70                2  15-12-2013 00:50   \n",
            "1        10121               34      81.35                5  29-04-2014 23:40   \n",
            "2        10134               41      94.74                2  30-12-2012 00:21   \n",
            "3        10145               45      83.26                6  28-11-2014 00:31   \n",
            "4        10159               49     100.00               14  26-10-2013 23:11   \n",
            "\n",
            "   DELIVERYDATETIME   STATUS  PRODUCTLINE           CITY STATE POSTALCODE  \\\n",
            "0  17-12-2013 09:08  Shipped  Motorcycles            NYC    NY      10022   \n",
            "1    1/5/2014 12:49  Shipped  Motorcycles          Reims   NaN      51100   \n",
            "2  30-12-2012 23:34  Shipped  Motorcycles          Paris   NaN      75508   \n",
            "3  29-11-2014 06:08  Shipped  Motorcycles       Pasadena    CA      90003   \n",
            "4  27-10-2013 12:16  Shipped  Motorcycles  San Francisco    CA        NaN   \n",
            "\n",
            "  COUNTRY TERRITORY CONTACTLASTNAME CONTACTFIRSTNAME DEALSIZE    Sales  \n",
            "0     USA       NaN              Yu             Kwai    Small  2871.00  \n",
            "1  France      EMEA         Henriot             Paul    Small  2765.90  \n",
            "2  France      EMEA        Da Cunha           Daniel   Medium  3884.34  \n",
            "3     USA       NaN           Young            Julie   Medium  3746.70  \n",
            "4     USA       NaN           Brown            Julie   Medium  4900.00  \n"
          ]
        }
      ]
    },
    {
      "cell_type": "markdown",
      "source": [
        "Q13.Create a 3D scatter plot using Plotly."
      ],
      "metadata": {
        "id": "hkhdgdYweES0"
      }
    },
    {
      "cell_type": "code",
      "source": [
        "import plotly.express as px\n",
        "import pandas as pd\n",
        "\n",
        "\n",
        "data = {\n",
        "    'X': [1, 2, 3, 4, 5, 6, 7, 8, 9, 10],\n",
        "    'Y': [10, 8, 6, 4, 2, 1, 3, 5, 7, 9],\n",
        "    'Z': [5, 2, 8, 1, 9, 3, 7, 4, 6, 10],\n",
        "    'Category': ['A', 'B', 'A', 'C', 'B', 'A', 'C', 'B', 'A', 'C']\n",
        "}\n",
        "df = pd.DataFrame(data)\n",
        "\n",
        "\n",
        "fig = px.scatter_3d(df, x='X', y='Y', z='Z',\n",
        "                    color='Category',\n",
        "                    size='Z',\n",
        "                    title='3D Scatter Plot with Plotly Express')\n",
        "\n",
        "\n",
        "fig.show()"
      ],
      "metadata": {
        "colab": {
          "base_uri": "https://localhost:8080/",
          "height": 542
        },
        "id": "NPsFx1c7eBJB",
        "outputId": "49f0d4a0-4ad0-4ecc-ec56-cefa7ad2912c"
      },
      "execution_count": 29,
      "outputs": [
        {
          "output_type": "display_data",
          "data": {
            "text/html": [
              "<html>\n",
              "<head><meta charset=\"utf-8\" /></head>\n",
              "<body>\n",
              "    <div>            <script src=\"https://cdnjs.cloudflare.com/ajax/libs/mathjax/2.7.5/MathJax.js?config=TeX-AMS-MML_SVG\"></script><script type=\"text/javascript\">if (window.MathJax && window.MathJax.Hub && window.MathJax.Hub.Config) {window.MathJax.Hub.Config({SVG: {font: \"STIX-Web\"}});}</script>                <script type=\"text/javascript\">window.PlotlyConfig = {MathJaxConfig: 'local'};</script>\n",
              "        <script charset=\"utf-8\" src=\"https://cdn.plot.ly/plotly-2.35.2.min.js\"></script>                <div id=\"3f458989-22ee-4097-9200-7ffbb80ab766\" class=\"plotly-graph-div\" style=\"height:525px; width:100%;\"></div>            <script type=\"text/javascript\">                                    window.PLOTLYENV=window.PLOTLYENV || {};                                    if (document.getElementById(\"3f458989-22ee-4097-9200-7ffbb80ab766\")) {                    Plotly.newPlot(                        \"3f458989-22ee-4097-9200-7ffbb80ab766\",                        [{\"hovertemplate\":\"Category=A\\u003cbr\\u003eX=%{x}\\u003cbr\\u003eY=%{y}\\u003cbr\\u003eZ=%{marker.size}\\u003cextra\\u003e\\u003c\\u002fextra\\u003e\",\"legendgroup\":\"A\",\"marker\":{\"color\":\"#636efa\",\"size\":[5,8,3,6],\"sizemode\":\"area\",\"sizeref\":0.025,\"symbol\":\"circle\"},\"mode\":\"markers\",\"name\":\"A\",\"scene\":\"scene\",\"showlegend\":true,\"x\":[1,3,6,9],\"y\":[10,6,1,7],\"z\":[5,8,3,6],\"type\":\"scatter3d\"},{\"hovertemplate\":\"Category=B\\u003cbr\\u003eX=%{x}\\u003cbr\\u003eY=%{y}\\u003cbr\\u003eZ=%{marker.size}\\u003cextra\\u003e\\u003c\\u002fextra\\u003e\",\"legendgroup\":\"B\",\"marker\":{\"color\":\"#EF553B\",\"size\":[2,9,4],\"sizemode\":\"area\",\"sizeref\":0.025,\"symbol\":\"circle\"},\"mode\":\"markers\",\"name\":\"B\",\"scene\":\"scene\",\"showlegend\":true,\"x\":[2,5,8],\"y\":[8,2,5],\"z\":[2,9,4],\"type\":\"scatter3d\"},{\"hovertemplate\":\"Category=C\\u003cbr\\u003eX=%{x}\\u003cbr\\u003eY=%{y}\\u003cbr\\u003eZ=%{marker.size}\\u003cextra\\u003e\\u003c\\u002fextra\\u003e\",\"legendgroup\":\"C\",\"marker\":{\"color\":\"#00cc96\",\"size\":[1,7,10],\"sizemode\":\"area\",\"sizeref\":0.025,\"symbol\":\"circle\"},\"mode\":\"markers\",\"name\":\"C\",\"scene\":\"scene\",\"showlegend\":true,\"x\":[4,7,10],\"y\":[4,3,9],\"z\":[1,7,10],\"type\":\"scatter3d\"}],                        {\"template\":{\"data\":{\"histogram2dcontour\":[{\"type\":\"histogram2dcontour\",\"colorbar\":{\"outlinewidth\":0,\"ticks\":\"\"},\"colorscale\":[[0.0,\"#0d0887\"],[0.1111111111111111,\"#46039f\"],[0.2222222222222222,\"#7201a8\"],[0.3333333333333333,\"#9c179e\"],[0.4444444444444444,\"#bd3786\"],[0.5555555555555556,\"#d8576b\"],[0.6666666666666666,\"#ed7953\"],[0.7777777777777778,\"#fb9f3a\"],[0.8888888888888888,\"#fdca26\"],[1.0,\"#f0f921\"]]}],\"choropleth\":[{\"type\":\"choropleth\",\"colorbar\":{\"outlinewidth\":0,\"ticks\":\"\"}}],\"histogram2d\":[{\"type\":\"histogram2d\",\"colorbar\":{\"outlinewidth\":0,\"ticks\":\"\"},\"colorscale\":[[0.0,\"#0d0887\"],[0.1111111111111111,\"#46039f\"],[0.2222222222222222,\"#7201a8\"],[0.3333333333333333,\"#9c179e\"],[0.4444444444444444,\"#bd3786\"],[0.5555555555555556,\"#d8576b\"],[0.6666666666666666,\"#ed7953\"],[0.7777777777777778,\"#fb9f3a\"],[0.8888888888888888,\"#fdca26\"],[1.0,\"#f0f921\"]]}],\"heatmap\":[{\"type\":\"heatmap\",\"colorbar\":{\"outlinewidth\":0,\"ticks\":\"\"},\"colorscale\":[[0.0,\"#0d0887\"],[0.1111111111111111,\"#46039f\"],[0.2222222222222222,\"#7201a8\"],[0.3333333333333333,\"#9c179e\"],[0.4444444444444444,\"#bd3786\"],[0.5555555555555556,\"#d8576b\"],[0.6666666666666666,\"#ed7953\"],[0.7777777777777778,\"#fb9f3a\"],[0.8888888888888888,\"#fdca26\"],[1.0,\"#f0f921\"]]}],\"heatmapgl\":[{\"type\":\"heatmapgl\",\"colorbar\":{\"outlinewidth\":0,\"ticks\":\"\"},\"colorscale\":[[0.0,\"#0d0887\"],[0.1111111111111111,\"#46039f\"],[0.2222222222222222,\"#7201a8\"],[0.3333333333333333,\"#9c179e\"],[0.4444444444444444,\"#bd3786\"],[0.5555555555555556,\"#d8576b\"],[0.6666666666666666,\"#ed7953\"],[0.7777777777777778,\"#fb9f3a\"],[0.8888888888888888,\"#fdca26\"],[1.0,\"#f0f921\"]]}],\"contourcarpet\":[{\"type\":\"contourcarpet\",\"colorbar\":{\"outlinewidth\":0,\"ticks\":\"\"}}],\"contour\":[{\"type\":\"contour\",\"colorbar\":{\"outlinewidth\":0,\"ticks\":\"\"},\"colorscale\":[[0.0,\"#0d0887\"],[0.1111111111111111,\"#46039f\"],[0.2222222222222222,\"#7201a8\"],[0.3333333333333333,\"#9c179e\"],[0.4444444444444444,\"#bd3786\"],[0.5555555555555556,\"#d8576b\"],[0.6666666666666666,\"#ed7953\"],[0.7777777777777778,\"#fb9f3a\"],[0.8888888888888888,\"#fdca26\"],[1.0,\"#f0f921\"]]}],\"surface\":[{\"type\":\"surface\",\"colorbar\":{\"outlinewidth\":0,\"ticks\":\"\"},\"colorscale\":[[0.0,\"#0d0887\"],[0.1111111111111111,\"#46039f\"],[0.2222222222222222,\"#7201a8\"],[0.3333333333333333,\"#9c179e\"],[0.4444444444444444,\"#bd3786\"],[0.5555555555555556,\"#d8576b\"],[0.6666666666666666,\"#ed7953\"],[0.7777777777777778,\"#fb9f3a\"],[0.8888888888888888,\"#fdca26\"],[1.0,\"#f0f921\"]]}],\"mesh3d\":[{\"type\":\"mesh3d\",\"colorbar\":{\"outlinewidth\":0,\"ticks\":\"\"}}],\"scatter\":[{\"fillpattern\":{\"fillmode\":\"overlay\",\"size\":10,\"solidity\":0.2},\"type\":\"scatter\"}],\"parcoords\":[{\"type\":\"parcoords\",\"line\":{\"colorbar\":{\"outlinewidth\":0,\"ticks\":\"\"}}}],\"scatterpolargl\":[{\"type\":\"scatterpolargl\",\"marker\":{\"colorbar\":{\"outlinewidth\":0,\"ticks\":\"\"}}}],\"bar\":[{\"error_x\":{\"color\":\"#2a3f5f\"},\"error_y\":{\"color\":\"#2a3f5f\"},\"marker\":{\"line\":{\"color\":\"#E5ECF6\",\"width\":0.5},\"pattern\":{\"fillmode\":\"overlay\",\"size\":10,\"solidity\":0.2}},\"type\":\"bar\"}],\"scattergeo\":[{\"type\":\"scattergeo\",\"marker\":{\"colorbar\":{\"outlinewidth\":0,\"ticks\":\"\"}}}],\"scatterpolar\":[{\"type\":\"scatterpolar\",\"marker\":{\"colorbar\":{\"outlinewidth\":0,\"ticks\":\"\"}}}],\"histogram\":[{\"marker\":{\"pattern\":{\"fillmode\":\"overlay\",\"size\":10,\"solidity\":0.2}},\"type\":\"histogram\"}],\"scattergl\":[{\"type\":\"scattergl\",\"marker\":{\"colorbar\":{\"outlinewidth\":0,\"ticks\":\"\"}}}],\"scatter3d\":[{\"type\":\"scatter3d\",\"line\":{\"colorbar\":{\"outlinewidth\":0,\"ticks\":\"\"}},\"marker\":{\"colorbar\":{\"outlinewidth\":0,\"ticks\":\"\"}}}],\"scattermapbox\":[{\"type\":\"scattermapbox\",\"marker\":{\"colorbar\":{\"outlinewidth\":0,\"ticks\":\"\"}}}],\"scatterternary\":[{\"type\":\"scatterternary\",\"marker\":{\"colorbar\":{\"outlinewidth\":0,\"ticks\":\"\"}}}],\"scattercarpet\":[{\"type\":\"scattercarpet\",\"marker\":{\"colorbar\":{\"outlinewidth\":0,\"ticks\":\"\"}}}],\"carpet\":[{\"aaxis\":{\"endlinecolor\":\"#2a3f5f\",\"gridcolor\":\"white\",\"linecolor\":\"white\",\"minorgridcolor\":\"white\",\"startlinecolor\":\"#2a3f5f\"},\"baxis\":{\"endlinecolor\":\"#2a3f5f\",\"gridcolor\":\"white\",\"linecolor\":\"white\",\"minorgridcolor\":\"white\",\"startlinecolor\":\"#2a3f5f\"},\"type\":\"carpet\"}],\"table\":[{\"cells\":{\"fill\":{\"color\":\"#EBF0F8\"},\"line\":{\"color\":\"white\"}},\"header\":{\"fill\":{\"color\":\"#C8D4E3\"},\"line\":{\"color\":\"white\"}},\"type\":\"table\"}],\"barpolar\":[{\"marker\":{\"line\":{\"color\":\"#E5ECF6\",\"width\":0.5},\"pattern\":{\"fillmode\":\"overlay\",\"size\":10,\"solidity\":0.2}},\"type\":\"barpolar\"}],\"pie\":[{\"automargin\":true,\"type\":\"pie\"}]},\"layout\":{\"autotypenumbers\":\"strict\",\"colorway\":[\"#636efa\",\"#EF553B\",\"#00cc96\",\"#ab63fa\",\"#FFA15A\",\"#19d3f3\",\"#FF6692\",\"#B6E880\",\"#FF97FF\",\"#FECB52\"],\"font\":{\"color\":\"#2a3f5f\"},\"hovermode\":\"closest\",\"hoverlabel\":{\"align\":\"left\"},\"paper_bgcolor\":\"white\",\"plot_bgcolor\":\"#E5ECF6\",\"polar\":{\"bgcolor\":\"#E5ECF6\",\"angularaxis\":{\"gridcolor\":\"white\",\"linecolor\":\"white\",\"ticks\":\"\"},\"radialaxis\":{\"gridcolor\":\"white\",\"linecolor\":\"white\",\"ticks\":\"\"}},\"ternary\":{\"bgcolor\":\"#E5ECF6\",\"aaxis\":{\"gridcolor\":\"white\",\"linecolor\":\"white\",\"ticks\":\"\"},\"baxis\":{\"gridcolor\":\"white\",\"linecolor\":\"white\",\"ticks\":\"\"},\"caxis\":{\"gridcolor\":\"white\",\"linecolor\":\"white\",\"ticks\":\"\"}},\"coloraxis\":{\"colorbar\":{\"outlinewidth\":0,\"ticks\":\"\"}},\"colorscale\":{\"sequential\":[[0.0,\"#0d0887\"],[0.1111111111111111,\"#46039f\"],[0.2222222222222222,\"#7201a8\"],[0.3333333333333333,\"#9c179e\"],[0.4444444444444444,\"#bd3786\"],[0.5555555555555556,\"#d8576b\"],[0.6666666666666666,\"#ed7953\"],[0.7777777777777778,\"#fb9f3a\"],[0.8888888888888888,\"#fdca26\"],[1.0,\"#f0f921\"]],\"sequentialminus\":[[0.0,\"#0d0887\"],[0.1111111111111111,\"#46039f\"],[0.2222222222222222,\"#7201a8\"],[0.3333333333333333,\"#9c179e\"],[0.4444444444444444,\"#bd3786\"],[0.5555555555555556,\"#d8576b\"],[0.6666666666666666,\"#ed7953\"],[0.7777777777777778,\"#fb9f3a\"],[0.8888888888888888,\"#fdca26\"],[1.0,\"#f0f921\"]],\"diverging\":[[0,\"#8e0152\"],[0.1,\"#c51b7d\"],[0.2,\"#de77ae\"],[0.3,\"#f1b6da\"],[0.4,\"#fde0ef\"],[0.5,\"#f7f7f7\"],[0.6,\"#e6f5d0\"],[0.7,\"#b8e186\"],[0.8,\"#7fbc41\"],[0.9,\"#4d9221\"],[1,\"#276419\"]]},\"xaxis\":{\"gridcolor\":\"white\",\"linecolor\":\"white\",\"ticks\":\"\",\"title\":{\"standoff\":15},\"zerolinecolor\":\"white\",\"automargin\":true,\"zerolinewidth\":2},\"yaxis\":{\"gridcolor\":\"white\",\"linecolor\":\"white\",\"ticks\":\"\",\"title\":{\"standoff\":15},\"zerolinecolor\":\"white\",\"automargin\":true,\"zerolinewidth\":2},\"scene\":{\"xaxis\":{\"backgroundcolor\":\"#E5ECF6\",\"gridcolor\":\"white\",\"linecolor\":\"white\",\"showbackground\":true,\"ticks\":\"\",\"zerolinecolor\":\"white\",\"gridwidth\":2},\"yaxis\":{\"backgroundcolor\":\"#E5ECF6\",\"gridcolor\":\"white\",\"linecolor\":\"white\",\"showbackground\":true,\"ticks\":\"\",\"zerolinecolor\":\"white\",\"gridwidth\":2},\"zaxis\":{\"backgroundcolor\":\"#E5ECF6\",\"gridcolor\":\"white\",\"linecolor\":\"white\",\"showbackground\":true,\"ticks\":\"\",\"zerolinecolor\":\"white\",\"gridwidth\":2}},\"shapedefaults\":{\"line\":{\"color\":\"#2a3f5f\"}},\"annotationdefaults\":{\"arrowcolor\":\"#2a3f5f\",\"arrowhead\":0,\"arrowwidth\":1},\"geo\":{\"bgcolor\":\"white\",\"landcolor\":\"#E5ECF6\",\"subunitcolor\":\"white\",\"showland\":true,\"showlakes\":true,\"lakecolor\":\"white\"},\"title\":{\"x\":0.05},\"mapbox\":{\"style\":\"light\"}}},\"scene\":{\"domain\":{\"x\":[0.0,1.0],\"y\":[0.0,1.0]},\"xaxis\":{\"title\":{\"text\":\"X\"}},\"yaxis\":{\"title\":{\"text\":\"Y\"}},\"zaxis\":{\"title\":{\"text\":\"Z\"}}},\"legend\":{\"title\":{\"text\":\"Category\"},\"tracegroupgap\":0,\"itemsizing\":\"constant\"},\"title\":{\"text\":\"3D Scatter Plot with Plotly Express\"}},                        {\"responsive\": true}                    ).then(function(){\n",
              "                            \n",
              "var gd = document.getElementById('3f458989-22ee-4097-9200-7ffbb80ab766');\n",
              "var x = new MutationObserver(function (mutations, observer) {{\n",
              "        var display = window.getComputedStyle(gd).display;\n",
              "        if (!display || display === 'none') {{\n",
              "            console.log([gd, 'removed!']);\n",
              "            Plotly.purge(gd);\n",
              "            observer.disconnect();\n",
              "        }}\n",
              "}});\n",
              "\n",
              "// Listen for the removal of the full notebook cells\n",
              "var notebookContainer = gd.closest('#notebook-container');\n",
              "if (notebookContainer) {{\n",
              "    x.observe(notebookContainer, {childList: true});\n",
              "}}\n",
              "\n",
              "// Listen for the clearing of the current output cell\n",
              "var outputEl = gd.closest('.output');\n",
              "if (outputEl) {{\n",
              "    x.observe(outputEl, {childList: true});\n",
              "}}\n",
              "\n",
              "                        })                };                            </script>        </div>\n",
              "</body>\n",
              "</html>"
            ]
          },
          "metadata": {}
        }
      ]
    },
    {
      "cell_type": "code",
      "source": [],
      "metadata": {
        "id": "ciqSIwEHfegE"
      },
      "execution_count": null,
      "outputs": []
    }
  ]
}